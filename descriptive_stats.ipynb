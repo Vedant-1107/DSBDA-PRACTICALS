{
 "cells": [
  {
   "cell_type": "code",
   "execution_count": 27,
   "id": "e844c5cc-0d6c-4bfd-9ab8-c35121543221",
   "metadata": {},
   "outputs": [],
   "source": [
    "import pandas as pd"
   ]
  },
  {
   "cell_type": "code",
   "execution_count": 28,
   "id": "b538ebe5-bd57-4c32-9c6f-a04b5b78b650",
   "metadata": {},
   "outputs": [],
   "source": [
    "# Part 1"
   ]
  },
  {
   "cell_type": "code",
   "execution_count": 29,
   "id": "6fec55c7-9fb3-4918-8d69-8851a1ef4347",
   "metadata": {},
   "outputs": [],
   "source": [
    "# Generate data and load into DataFrame:\n",
    "data = {\n",
    "    'age': [25, 30, 22, 40, 55, 60, 33, 28, 45, 50],\n",
    "    'income': [50000, 60000, 45000, 70000, 80000, 90000, 65000, 62000, 75000, 85000],\n",
    "    'age_group': ['20-30', '30-40', '20-30', '40-50', '50-60', '50-60', '30-40', '20-30', '40-50', '50-60']\n",
    "}\n",
    "df = pd.DataFrame(data)"
   ]
  },
  {
   "cell_type": "code",
   "execution_count": 30,
   "id": "6ed72bb7-2147-4313-b693-3cb4cd7dbf31",
   "metadata": {},
   "outputs": [
    {
     "name": "stdout",
     "output_type": "stream",
     "text": [
      "           count          mean          std      min      25%      50%  \\\n",
      "age_group                                                                \n",
      "20-30        3.0  52333.333333  8736.894948  45000.0  47500.0  50000.0   \n",
      "30-40        2.0  62500.000000  3535.533906  60000.0  61250.0  62500.0   \n",
      "40-50        2.0  72500.000000  3535.533906  70000.0  71250.0  72500.0   \n",
      "50-60        3.0  85000.000000  5000.000000  80000.0  82500.0  85000.0   \n",
      "\n",
      "               75%      max  \n",
      "age_group                    \n",
      "20-30      56000.0  62000.0  \n",
      "30-40      63750.0  65000.0  \n",
      "40-50      73750.0  75000.0  \n",
      "50-60      87500.0  90000.0  \n"
     ]
    }
   ],
   "source": [
    "# Group data by age_group, compute statistics for income + print:\n",
    "summary_stats = df.groupby('age_group')['income'].describe()\n",
    "print(summary_stats)"
   ]
  },
  {
   "cell_type": "code",
   "execution_count": 31,
   "id": "731e63fe-4976-4d3d-aef1-c17dbae11e35",
   "metadata": {},
   "outputs": [
    {
     "name": "stdout",
     "output_type": "stream",
     "text": [
      "Median Income by Age Group:\n",
      "age_group\n",
      "20-30    50000.0\n",
      "30-40    62500.0\n",
      "40-50    72500.0\n",
      "50-60    85000.0\n",
      "Name: income, dtype: float64\n"
     ]
    }
   ],
   "source": [
    "# Group the data by age_group; Select income column for each of the groups created; Calculate median for income:\n",
    "median_income = df.groupby('age_group')['income'].median()\n",
    "print(\"Median Income by Age Group:\")\n",
    "print(median_income)"
   ]
  },
  {
   "cell_type": "code",
   "execution_count": 32,
   "id": "76d6e5b6-14cd-4ef7-85a6-d55deeb19978",
   "metadata": {},
   "outputs": [
    {
     "name": "stdout",
     "output_type": "stream",
     "text": [
      "Column Names: Index(['age', 'income', 'age_group'], dtype='object')\n"
     ]
    }
   ],
   "source": [
    "# Print column names:\n",
    "print(\"Column Names:\", df.columns)"
   ]
  },
  {
   "cell_type": "code",
   "execution_count": 33,
   "id": "c00f0a8f-90a4-49cb-a106-0802f9997bb0",
   "metadata": {},
   "outputs": [],
   "source": [
    "# Modified dataset with repeated values; define in DataFrame:\n",
    "data = {\n",
    "    'age': [25, 30, 25, 40, 55, 60, 33, 28, 45, 50, 25, 30, 28, 30, 25],\n",
    "    'income': [50000, 60000, 50000, 70000, 80000, 90000, 65000, 62000, 75000, 85000, 50000, 60000, 62000, 70000, 75000],\n",
    "    'age_group': ['20-30', '30-40', '20-30', '40-50', '50-60', '50-60', '30-40', '20-30', '40-50', '50-60', '20-30', '30-40', '20-30', '30-40', '20-30']\n",
    "}\n",
    "df = pd.DataFrame(data)"
   ]
  },
  {
   "cell_type": "code",
   "execution_count": 34,
   "id": "19e69ee5-5b21-42a2-b26a-5411295b69be",
   "metadata": {},
   "outputs": [
    {
     "name": "stdout",
     "output_type": "stream",
     "text": [
      "Mode of Age: [25]\n",
      "Mode of Income: [50000]\n"
     ]
    }
   ],
   "source": [
    "# Calculate mode:\n",
    "mode_age = df['age'].mode()\n",
    "mode_income = df['income'].mode()\n",
    "print(f\"Mode of Age: {mode_age.values}\")\n",
    "print(f\"Mode of Income: {mode_income.values}\")"
   ]
  },
  {
   "cell_type": "code",
   "execution_count": 35,
   "id": "d7cb4c78-ef13-4b3d-8d81-9360e6053c3c",
   "metadata": {},
   "outputs": [],
   "source": [
    "# Part 2"
   ]
  },
  {
   "cell_type": "code",
   "execution_count": 36,
   "id": "effa72cb-8735-4de4-aadf-a1dfad952d0a",
   "metadata": {},
   "outputs": [
    {
     "name": "stdout",
     "output_type": "stream",
     "text": [
      "   Id  SepalLengthCm  SepalWidthCm  PetalLengthCm  PetalWidthCm      Species\n",
      "0   1            5.1           3.5            1.4           0.2  Iris-setosa\n",
      "1   2            4.9           3.0            1.4           0.2  Iris-setosa\n",
      "2   3            4.7           3.2            1.3           0.2  Iris-setosa\n",
      "3   4            4.6           3.1            1.5           0.2  Iris-setosa\n",
      "4   5            5.0           3.6            1.4           0.2  Iris-setosa\n"
     ]
    }
   ],
   "source": [
    "# Load dataset and print first 5 rows:\n",
    "df = pd.read_csv('datasets/Iris.csv')\n",
    "print(df.head()) # Print first 5 columns"
   ]
  },
  {
   "cell_type": "code",
   "execution_count": 37,
   "id": "2642a311-9302-41f8-8794-7806aff23199",
   "metadata": {},
   "outputs": [
    {
     "name": "stdout",
     "output_type": "stream",
     "text": [
      "\n",
      "Percentiles by Species:\n",
      "                          Id  SepalLengthCm  SepalWidthCm  PetalLengthCm  \\\n",
      "Species                                                                    \n",
      "Iris-setosa     0.25   13.25          4.800         3.125          1.400   \n",
      "                0.50   25.50          5.000         3.400          1.500   \n",
      "                0.75   37.75          5.200         3.675          1.575   \n",
      "Iris-versicolor 0.25   63.25          5.600         2.525          4.000   \n",
      "                0.50   75.50          5.900         2.800          4.350   \n",
      "                0.75   87.75          6.300         3.000          4.600   \n",
      "Iris-virginica  0.25  113.25          6.225         2.800          5.100   \n",
      "                0.50  125.50          6.500         3.000          5.550   \n",
      "                0.75  137.75          6.900         3.175          5.875   \n",
      "\n",
      "                      PetalWidthCm  \n",
      "Species                             \n",
      "Iris-setosa     0.25           0.2  \n",
      "                0.50           0.2  \n",
      "                0.75           0.3  \n",
      "Iris-versicolor 0.25           1.2  \n",
      "                0.50           1.3  \n",
      "                0.75           1.5  \n",
      "Iris-virginica  0.25           1.8  \n",
      "                0.50           2.0  \n",
      "                0.75           2.3  \n"
     ]
    }
   ],
   "source": [
    "# Group data; Compute percentiles; Display:\n",
    "summary_stats_species = df.groupby('Species').describe()\n",
    "percentiles = df.groupby('Species').quantile([0.25, 0.5, 0.75])\n",
    "summary_stats_species = df.groupby('Species').describe()\n",
    "print(\"\\nPercentiles by Species:\")\n",
    "print(percentiles)"
   ]
  },
  {
   "cell_type": "code",
   "execution_count": 38,
   "id": "1c73ad3f-cff0-42fd-a9cd-232d796f3b1d",
   "metadata": {},
   "outputs": [
    {
     "name": "stdout",
     "output_type": "stream",
     "text": [
      "\n",
      "Summary Statistics by Species for Sepal Width:\n",
      "                 count   mean       std  min    25%  50%    75%  max\n",
      "Species                                                             \n",
      "Iris-setosa       50.0  3.418  0.381024  2.3  3.125  3.4  3.675  4.4\n",
      "Iris-versicolor   50.0  2.770  0.313798  2.0  2.525  2.8  3.000  3.4\n",
      "Iris-virginica    50.0  2.974  0.322497  2.2  2.800  3.0  3.175  3.8\n"
     ]
    }
   ],
   "source": [
    "# Group the data by variety; Select sepal.width column for each of the groups created; Display summary statistics:\n",
    "summary_stats_species = df.groupby('Species')['SepalWidthCm'].describe()\n",
    "print(\"\\nSummary Statistics by Species for Sepal Width:\")\n",
    "print(summary_stats_species)"
   ]
  },
  {
   "cell_type": "code",
   "execution_count": 39,
   "id": "95d95917-ddcc-4398-b3ff-d517d3049e34",
   "metadata": {},
   "outputs": [
    {
     "name": "stdout",
     "output_type": "stream",
     "text": [
      "Median Values by Species:\n",
      "                    Id  SepalLengthCm  SepalWidthCm  PetalLengthCm  \\\n",
      "Species                                                              \n",
      "Iris-setosa       25.5            5.0           3.4           1.50   \n",
      "Iris-versicolor   75.5            5.9           2.8           4.35   \n",
      "Iris-virginica   125.5            6.5           3.0           5.55   \n",
      "\n",
      "                 PetalWidthCm  \n",
      "Species                        \n",
      "Iris-setosa               0.2  \n",
      "Iris-versicolor           1.3  \n",
      "Iris-virginica            2.0  \n"
     ]
    }
   ],
   "source": [
    "# Group by variety and compute the median for numeric columns:\n",
    "median_values = df.groupby('Species').median()\n",
    "print(\"Median Values by Species:\")\n",
    "print(median_values)"
   ]
  },
  {
   "cell_type": "code",
   "execution_count": 40,
   "id": "e6ae6bd0-3d92-4bd7-883e-93e2ba7bcf01",
   "metadata": {},
   "outputs": [
    {
     "name": "stdout",
     "output_type": "stream",
     "text": [
      "Median Sepal Length by Species:\n",
      "Species\n",
      "Iris-setosa        5.0\n",
      "Iris-versicolor    5.9\n",
      "Iris-virginica     6.5\n",
      "Name: SepalLengthCm, dtype: float64\n"
     ]
    }
   ],
   "source": [
    "# Group the data by variety; Select sepal.width column for each of the groups created; Display median:\n",
    "median_sepal_length = df.groupby('Species')['SepalLengthCm'].median()\n",
    "print(\"Median Sepal Length by Species:\")\n",
    "print(median_sepal_length)"
   ]
  },
  {
   "cell_type": "code",
   "execution_count": 41,
   "id": "c8370b50-f256-45c4-ab24-aa44eeadb199",
   "metadata": {},
   "outputs": [
    {
     "name": "stdout",
     "output_type": "stream",
     "text": [
      "Mode of Width: [3.]\n"
     ]
    }
   ],
   "source": [
    "# Calculate & print mode for sepal.width:\n",
    "mode_width = df['SepalWidthCm'].mode()\n",
    "print(f\"Mode of Width: {mode_width.values}\")"
   ]
  }
 ],
 "metadata": {
  "kernelspec": {
   "display_name": "Python 3 (ipykernel)",
   "language": "python",
   "name": "python3"
  },
  "language_info": {
   "codemirror_mode": {
    "name": "ipython",
    "version": 3
   },
   "file_extension": ".py",
   "mimetype": "text/x-python",
   "name": "python",
   "nbconvert_exporter": "python",
   "pygments_lexer": "ipython3",
   "version": "3.13.2"
  }
 },
 "nbformat": 4,
 "nbformat_minor": 5
}
